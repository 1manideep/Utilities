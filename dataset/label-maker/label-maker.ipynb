{
 "cells": [
  {
   "cell_type": "code",
   "execution_count": 1,
   "metadata": {},
   "outputs": [
    {
     "name": "stderr",
     "output_type": "stream",
     "text": [
      "2023-12-21 19:17:58.174 Python[4885:152273] WARNING: Secure coding is not enabled for restorable state! Enable secure coding by implementing NSApplicationDelegate.applicationSupportsSecureRestorableState: and returning YES.\n"
     ]
    },
    {
     "name": "stdout",
     "output_type": "stream",
     "text": [
      "Could not read image: .DS_Store\n"
     ]
    }
   ],
   "source": [
    "import cv2\n",
    "import json\n",
    "import os\n",
    "\n",
    "# specify the directory you want to list files from\n",
    "directory = '/Users/manideep/Desktop/example-cat-dog-data/'\n",
    "\n",
    "# use os.listdir to get the list of files\n",
    "files = os.listdir(directory)\n",
    "\n",
    "labels = []\n",
    "for file in files:\n",
    "    # construct full file path\n",
    "    file_path = os.path.join(directory, file)\n",
    "    \n",
    "    # read the image\n",
    "    img = cv2.imread(file_path)\n",
    "\n",
    "    # check if the image is loaded properly\n",
    "    if img is None:\n",
    "        print(f\"Could not read image: {file}\")\n",
    "        continue\n",
    "\n",
    "    # display the image\n",
    "    cv2.imshow('image', img)\n",
    "    cv2.waitKey(1000)\n",
    "    cv2.destroyAllWindows()\n",
    "    \n",
    "    # ask the user for the label\n",
    "    label = input(f\"Enter label for {file}: \")\n",
    "    \n",
    "    # store the file name and label in the labels list\n",
    "    labels.append({\"image_id\": file, \"label\": label})\n",
    "\n",
    "# write the labels to a JSON file\n",
    "with open('/Users/manideep/Desktop/labels.json', 'w') as f:\n",
    "    json.dump(labels, f)"
   ]
  },
  {
   "cell_type": "code",
   "execution_count": null,
   "metadata": {},
   "outputs": [],
   "source": []
  }
 ],
 "metadata": {
  "kernelspec": {
   "display_name": "Python 3",
   "language": "python",
   "name": "python3"
  },
  "language_info": {
   "codemirror_mode": {
    "name": "ipython",
    "version": 3
   },
   "file_extension": ".py",
   "mimetype": "text/x-python",
   "name": "python",
   "nbconvert_exporter": "python",
   "pygments_lexer": "ipython3",
   "version": "3.11.1"
  }
 },
 "nbformat": 4,
 "nbformat_minor": 2
}
